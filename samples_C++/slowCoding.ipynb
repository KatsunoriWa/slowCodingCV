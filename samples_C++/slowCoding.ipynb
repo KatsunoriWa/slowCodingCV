{
 "cells": [
  {
   "cell_type": "markdown",
   "metadata": {
    "collapsed": true
   },
   "source": [
    "## jupyter notebook\n",
    "### cat でソースコードの表示はできる。"
   ]
  },
  {
   "cell_type": "code",
   "execution_count": 4,
   "metadata": {
    "scrolled": true
   },
   "outputs": [
    {
     "name": "stdout",
     "output_type": "stream",
     "text": [
      "#include <opencv2/opencv.hpp>\r",
      "\r\n",
      "void my_absdiff(const cv::Mat &img1, const cv::Mat &img2, cv::Mat &img4){\r",
      "\r\n",
      "\timg4=cv::Mat::zeros(img1.size(), img1.type());\t\r",
      "\r\n",
      "\tfor(int i=0; i<img1.rows; i++){\r",
      "\r\n",
      "\t\tfor(int j=0; j<img1.cols;j++){\r",
      "\r\n",
      "\t\t\timg4.at<uchar>(i,j) = std::abs(img1.at<uchar>(i,j) - img2.at<uchar>(i,j));\r",
      "\r\n",
      "\t\t}\r",
      "\r\n",
      "\t}\r",
      "\r\n",
      "} \r",
      "\r\n",
      "\r",
      "\r\n",
      "int main(int agrc,  char* argv[]){\r",
      "\r\n",
      "\tstd::string name1 = \"../../data/lena.png\";\r",
      "\r\n",
      "\tstd::string name2 = \"../../data/home.jpg\";\r",
      "\r\n",
      "\r",
      "\r\n",
      "\tcv::Mat img1=cv::imread(name1, 0);\r",
      "\r\n",
      "\tcv::Mat img2=cv::imread(name2, 0);\r",
      "\r\n",
      "\r",
      "\r\n",
      "\tint64 time0 = cv::getTickCount();\r",
      "\r\n",
      "\tcv::Mat img3;\r",
      "\r\n",
      "\tcv::absdiff(img1, img2, img3);\r",
      "\r\n",
      "\tint64 time1 = cv::getTickCount();\r",
      "\r\n",
      "\t\r",
      "\r\n",
      "\tstd::cout << (time1-time0)/cv::getTickFrequency() << std::endl;\r",
      "\r\n",
      "\r",
      "\r\n",
      "\tint64 time2 = cv::getTickCount();\r",
      "\r\n",
      "\t\r",
      "\r\n",
      "\tcv::Mat img4;\r",
      "\r\n",
      "\tmy_absdiff(img1, img2, img4);\r",
      "\r\n",
      "\tint64 time3 = cv::getTickCount();\r",
      "\r\n",
      "\tstd::cout << (time3-time2)/cv::getTickFrequency() << std::endl;\r",
      "\r\n",
      "\r",
      "\r\n",
      "\tcv::imwrite(\"ex_absdiff.png\", img3);\r",
      "\r\n",
      "\tcv::imwrite(\"ex_absdiff_loop.png\", img4);\r",
      "\r\n",
      "}\r",
      "\r\n",
      "\r",
      "\r\n"
     ]
    }
   ],
   "source": [
    "!cat ex_absdiff.cpp"
   ]
  },
  {
   "cell_type": "markdown",
   "metadata": {},
   "source": [
    "### build の手順を記述して実行させることができる。"
   ]
  },
  {
   "cell_type": "code",
   "execution_count": 17,
   "metadata": {
    "scrolled": true
   },
   "outputs": [
    {
     "name": "stdout",
     "output_type": "stream",
     "text": [
      "-- Configuring done\n",
      "-- Generating done\n",
      "-- Build files have been written to: /media/papa/9A34B81834B7F57B/Users/papa/github/slowCodingOpenCV/samples_C++/build\n",
      "[ 10%] Built target ex_addWeighted\n",
      "[ 20%] Built target ex_setTo\n",
      "\u001b[35m\u001b[1mScanning dependencies of target ex_max\u001b[0m\n",
      "[ 25%] \u001b[32mBuilding CXX object CMakeFiles/ex_max.dir/ex_max.cpp.o\u001b[0m\n",
      "[ 30%] \u001b[32m\u001b[1mLinking CXX executable ex_max\u001b[0m\n",
      "[ 30%] Built target ex_max\n",
      "[ 40%] Built target ex_mean\n",
      "[ 50%] Built target ex_absdiff\n",
      "[ 60%] Built target ex_scaleAdd\n",
      "[ 70%] Built target ex_minMaxLoc\n",
      "[ 80%] Built target ex_copyTo\n",
      "[ 90%] Built target ex_convertTo\n",
      "[100%] Built target ex_normalize\n"
     ]
    }
   ],
   "source": [
    "! cd build; cmake ..; make"
   ]
  },
  {
   "cell_type": "code",
   "execution_count": null,
   "metadata": {
    "collapsed": true
   },
   "outputs": [],
   "source": [
    "### １桁以上の動作速度の違いを生じています。"
   ]
  },
  {
   "cell_type": "code",
   "execution_count": 16,
   "metadata": {
    "scrolled": true
   },
   "outputs": [
    {
     "name": "stdout",
     "output_type": "stream",
     "text": [
      "0.0791461\r\n",
      "0.00279177\r\n"
     ]
    }
   ],
   "source": [
    "!cd build; ./ex_absdiff\n"
   ]
  },
  {
   "cell_type": "code",
   "execution_count": 18,
   "metadata": {},
   "outputs": [
    {
     "name": "stdout",
     "output_type": "stream",
     "text": [
      "0.0908665\r\n",
      "0.00313665\r\n"
     ]
    }
   ],
   "source": [
    "!cd build; ./ex_max"
   ]
  },
  {
   "cell_type": "code",
   "execution_count": 19,
   "metadata": {},
   "outputs": [
    {
     "name": "stdout",
     "output_type": "stream",
     "text": [
      "0.0899693\r\n",
      "0.0023195\r\n"
     ]
    }
   ],
   "source": [
    "!cd build; ./ex_copyTo"
   ]
  },
  {
   "cell_type": "code",
   "execution_count": 20,
   "metadata": {},
   "outputs": [
    {
     "name": "stdout",
     "output_type": "stream",
     "text": [
      "0.0828606\n",
      "0.00632727\n"
     ]
    }
   ],
   "source": [
    "!cd build; ./ex_scaleAdd"
   ]
  },
  {
   "cell_type": "code",
   "execution_count": 21,
   "metadata": {},
   "outputs": [
    {
     "name": "stdout",
     "output_type": "stream",
     "text": [
      "0.0826442\r\n",
      "0.00803491\r\n"
     ]
    }
   ],
   "source": [
    "!cd build; ./ex_normalize"
   ]
  },
  {
   "cell_type": "code",
   "execution_count": null,
   "metadata": {
    "collapsed": true
   },
   "outputs": [],
   "source": []
  },
  {
   "cell_type": "code",
   "execution_count": null,
   "metadata": {
    "collapsed": true
   },
   "outputs": [],
   "source": []
  },
  {
   "cell_type": "code",
   "execution_count": null,
   "metadata": {
    "collapsed": true
   },
   "outputs": [],
   "source": []
  }
 ],
 "metadata": {
  "kernelspec": {
   "display_name": "Python 2",
   "language": "python",
   "name": "python2"
  },
  "language_info": {
   "codemirror_mode": {
    "name": "ipython",
    "version": 2
   },
   "file_extension": ".py",
   "mimetype": "text/x-python",
   "name": "python",
   "nbconvert_exporter": "python",
   "pygments_lexer": "ipython2",
   "version": "2.7.12"
  }
 },
 "nbformat": 4,
 "nbformat_minor": 2
}
