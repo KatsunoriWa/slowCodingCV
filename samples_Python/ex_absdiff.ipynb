{
 "cells": [
  {
   "cell_type": "code",
   "execution_count": null,
   "metadata": {
    "collapsed": true
   },
   "outputs": [],
   "source": [
    "%matplotlib inline"
   ]
  },
  {
   "cell_type": "code",
   "execution_count": null,
   "metadata": {
    "collapsed": true
   },
   "outputs": [],
   "source": [
    "import cv2\n",
    "import numpy as np\n",
    "x = np.linspace(0, 180, 1000000)\n",
    "si = np.sin(np.pi*x/180.0)\n",
    "co = np.cos(np.pi*x/180.0)\n",
    "\n",
    "\n"
   ]
  },
  {
   "cell_type": "code",
   "execution_count": null,
   "metadata": {},
   "outputs": [],
   "source": [
    "def myAbsDiff(a, b):\n",
    "    assert a.shape == b.shape\n",
    "    if len(a.shape) == 1:\n",
    "        r = np.zeros(a.shape, dtype=a.dtype)\n",
    "        for i in xrange(a.shape[0]):\n",
    "            if a[i] > b[i]:\n",
    "                r[i] = a[i] -b[i]\n",
    "            else:\n",
    "                r[i] = b[i] - a[i]\n",
    "        return r\n",
    "    elif len(a.shape) == 2:\n",
    "        r = np.zeros(a.shape)\n",
    "        for y in xrange(a.shape[0]):\n",
    "            for x in xrange(a.shape[1]):\n",
    "                if a[y, x] > b[y,x]:\n",
    "                    r[y, x] = a[y, x] - b[y,x]\n",
    "                else:\n",
    "                    r[y, x] = b[y, x] - a[y,x]\n",
    "                    \n",
    "        return r.astype(a.dtype)"
   ]
  },
  {
   "cell_type": "code",
   "execution_count": null,
   "metadata": {},
   "outputs": [],
   "source": [
    "\n",
    "\n",
    "t5 = cv2.getTickCount()\n",
    "for i in range(100):\n",
    "    r3 = myAbsDiff(si, co)\n",
    "t6 = cv2.getTickCount()\n",
    "\n",
    "print r3\n",
    "print  (t6-t5)/cv2.getTickFrequency()"
   ]
  },
  {
   "cell_type": "code",
   "execution_count": null,
   "metadata": {},
   "outputs": [],
   "source": [
    "t1 = cv2.getTickCount()\n",
    "for i in range(100):\n",
    "    r = cv2.absdiff(si, co)\n",
    "t2 = cv2.getTickCount()\n",
    "print r\n",
    "print  (t2-t1)/cv2.getTickFrequency()"
   ]
  },
  {
   "cell_type": "code",
   "execution_count": null,
   "metadata": {},
   "outputs": [],
   "source": [
    "\n",
    "t3 = cv2.getTickCount()\n",
    "for i in range(100):\n",
    "    r2 = np.abs(si-co)\n",
    "t4 = cv2.getTickCount()\n",
    "print r2\n",
    "print  (t4-t3)/cv2.getTickFrequency()\n"
   ]
  },
  {
   "cell_type": "code",
   "execution_count": null,
   "metadata": {},
   "outputs": [],
   "source": [
    "from skimage import data\n",
    "img = data.astronaut()\n",
    "gray = cv2.cvtColor(img, cv2.COLOR_RGB2GRAY)\n",
    "print gray.shape\n",
    "gray2 = gray[:, ::-1]\n",
    "\n",
    "r = myAbsDiff(gray, gray2)\n",
    "print r.shape\n",
    "print r.dtype\n"
   ]
  },
  {
   "cell_type": "code",
   "execution_count": null,
   "metadata": {},
   "outputs": [],
   "source": [
    "import pylab as plt\n",
    "plt.imshow(r)\n",
    "plt.colorbar()\n",
    "plt.jet()"
   ]
  },
  {
   "cell_type": "code",
   "execution_count": null,
   "metadata": {},
   "outputs": [],
   "source": [
    "r2 = cv2.absdiff(gray, gray2)\n",
    "plt.imshow(r2)\n",
    "plt.colorbar()\n",
    "plt.jet()"
   ]
  },
  {
   "cell_type": "code",
   "execution_count": null,
   "metadata": {},
   "outputs": [],
   "source": [
    "r3 = np.abs(gray.astype(np.float32) - gray2.astype(np.float32))\n",
    "plt.imshow(r3)\n",
    "plt.colorbar()\n",
    "plt.jet()"
   ]
  },
  {
   "cell_type": "code",
   "execution_count": null,
   "metadata": {
    "collapsed": true
   },
   "outputs": [],
   "source": []
  }
 ],
 "metadata": {
  "kernelspec": {
   "display_name": "Python 2",
   "language": "python",
   "name": "python2"
  },
  "language_info": {
   "codemirror_mode": {
    "name": "ipython",
    "version": 2
   },
   "file_extension": ".py",
   "mimetype": "text/x-python",
   "name": "python",
   "nbconvert_exporter": "python",
   "pygments_lexer": "ipython2",
   "version": "2.7.12"
  }
 },
 "nbformat": 4,
 "nbformat_minor": 2
}
